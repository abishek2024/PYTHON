{
 "cells": [
  {
   "cell_type": "code",
   "execution_count": null,
   "id": "da4ccc9e",
   "metadata": {},
   "outputs": [],
   "source": [
    "//question 1"
   ]
  },
  {
   "cell_type": "code",
   "execution_count": 2,
   "id": "a744389b",
   "metadata": {},
   "outputs": [
    {
     "name": "stdout",
     "output_type": "stream",
     "text": [
      "welcome to assignment-1\n"
     ]
    }
   ],
   "source": [
    "print(\"welcome to assignment-1\")"
   ]
  },
  {
   "cell_type": "code",
   "execution_count": null,
   "id": "22ca2d55",
   "metadata": {},
   "outputs": [],
   "source": [
    "//question 2"
   ]
  },
  {
   "cell_type": "code",
   "execution_count": 4,
   "id": "7e660ee5",
   "metadata": {},
   "outputs": [
    {
     "name": "stdout",
     "output_type": "stream",
     "text": [
      "num1= 10\n",
      "num2= 30\n",
      "add= 40\n"
     ]
    }
   ],
   "source": [
    "num1=10\n",
    "num2=30\n",
    "add=num1+num2\n",
    "print(\"num1=\",num1)\n",
    "print(\"num2=\",num2)\n",
    "print(\"add=\",add)"
   ]
  },
  {
   "cell_type": "code",
   "execution_count": null,
   "id": "fd2bbac6",
   "metadata": {},
   "outputs": [],
   "source": [
    "//question n.o:3\n",
    "    "
   ]
  },
  {
   "cell_type": "code",
   "execution_count": 5,
   "id": "5dd95058",
   "metadata": {},
   "outputs": [
    {
     "name": "stdout",
     "output_type": "stream",
     "text": [
      "under weight\n",
      "normal weight\n",
      "normal weight\n",
      "over weight\n",
      "obesity-class2)\n",
      "extreme obesity\n"
     ]
    }
   ],
   "source": [
    "list=[16.1,23.5,27.0,32.0,35.4,44]\n",
    "for bmi in list:\n",
    "    if(bmi<18.5):\n",
    "        print(\"under weight\")\n",
    "    elif(bmi<=29.9):\n",
    "        print(\"normal weight\")\n",
    "    elif(bmi<=34.9): \n",
    "        print(\"over weight\")\n",
    "    elif(bmi<=34.9):\n",
    "        print(\"obesity-class1)\")\n",
    "    elif(bmi<=35.9):\n",
    "        print(\"obesity-class2)\")\n",
    "    elif(bmi>40):\n",
    "        print(\"extreme obesity\")"
   ]
  },
  {
   "cell_type": "code",
   "execution_count": null,
   "id": "b449c9da",
   "metadata": {},
   "outputs": [],
   "source": []
  }
 ],
 "metadata": {
  "kernelspec": {
   "display_name": "Python 3 (ipykernel)",
   "language": "python",
   "name": "python3"
  },
  "language_info": {
   "codemirror_mode": {
    "name": "ipython",
    "version": 3
   },
   "file_extension": ".py",
   "mimetype": "text/x-python",
   "name": "python",
   "nbconvert_exporter": "python",
   "pygments_lexer": "ipython3",
   "version": "3.11.5"
  }
 },
 "nbformat": 4,
 "nbformat_minor": 5
}
