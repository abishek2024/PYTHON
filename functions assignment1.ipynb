{
 "cells": [
  {
   "cell_type": "code",
   "execution_count": 2,
   "id": "a25781a9",
   "metadata": {},
   "outputs": [],
   "source": [
    "subfields=[\"sub fields in AI are=\",\"machine learning\",\"neural networks\",\"vision\",\"robotics\",\"speech processing\",\"natural language processing\"]\n",
    "def subfieldsiai():\n",
    "    for y in subfields:\n",
    "        print(y)"
   ]
  },
  {
   "cell_type": "code",
   "execution_count": 3,
   "id": "84727eb1",
   "metadata": {},
   "outputs": [
    {
     "name": "stdout",
     "output_type": "stream",
     "text": [
      "sub fields in AI are=\n",
      "machine learning\n",
      "neural networks\n",
      "vision\n",
      "robotics\n",
      "speech processing\n",
      "natural language processing\n"
     ]
    }
   ],
   "source": [
    "subfieldsiai()"
   ]
  },
  {
   "cell_type": "code",
   "execution_count": null,
   "id": "61ccad26",
   "metadata": {},
   "outputs": [],
   "source": [
    "#odd or even"
   ]
  },
  {
   "cell_type": "code",
   "execution_count": 4,
   "id": "5320f19b",
   "metadata": {},
   "outputs": [
    {
     "name": "stdout",
     "output_type": "stream",
     "text": [
      "enter a number:52452\n"
     ]
    }
   ],
   "source": [
    "num=int(input(\"enter a number:\"))"
   ]
  },
  {
   "cell_type": "code",
   "execution_count": 5,
   "id": "60e9657b",
   "metadata": {},
   "outputs": [],
   "source": [
    "def oddeven():\n",
    "    if((num%2)==0):\n",
    "        print(num,\"is even number\")\n",
    "        message=\"even number\"\n",
    "    else:\n",
    "        print(num,\"is odd number\")\n",
    "        message=\"odd number\""
   ]
  },
  {
   "cell_type": "code",
   "execution_count": 7,
   "id": "da25145e",
   "metadata": {},
   "outputs": [
    {
     "name": "stdout",
     "output_type": "stream",
     "text": [
      "52452 is even number\n"
     ]
    }
   ],
   "source": [
    "oddeven()"
   ]
  },
  {
   "cell_type": "code",
   "execution_count": null,
   "id": "8e5a2f1b",
   "metadata": {},
   "outputs": [],
   "source": [
    "#marrige eligibility "
   ]
  },
  {
   "cell_type": "code",
   "execution_count": 8,
   "id": "49b9551d",
   "metadata": {},
   "outputs": [
    {
     "name": "stdout",
     "output_type": "stream",
     "text": [
      "your gender=male\n"
     ]
    }
   ],
   "source": [
    "gender=input(\"your gender=\")"
   ]
  },
  {
   "cell_type": "code",
   "execution_count": 9,
   "id": "0ea55281",
   "metadata": {},
   "outputs": [
    {
     "name": "stdout",
     "output_type": "stream",
     "text": [
      "your age=26\n"
     ]
    }
   ],
   "source": [
    "age=int(input(\"your age=\"))"
   ]
  },
  {
   "cell_type": "code",
   "execution_count": 11,
   "id": "b4bf7c0f",
   "metadata": {},
   "outputs": [],
   "source": [
    "def eligibilityofmarrige():\n",
    "    if(gender==\"male\"):\n",
    "        if(age>=21):\n",
    "            print(\"eligible\")\n",
    "            message=\"eligible\"\n",
    "        else:\n",
    "            print(\"not eligible\")\n",
    "            message=\"not eligible\"\n",
    "    elif(gender==\"female\"):\n",
    "        if(age>=18):\n",
    "            print(\"eligible\")\n",
    "            message=\"eligible\"\n",
    "        else:\n",
    "            print(\"not eligible\")\n",
    "            message=\" not eligible\"\n",
    "    return message        "
   ]
  },
  {
   "cell_type": "code",
   "execution_count": 12,
   "id": "1996a35a",
   "metadata": {},
   "outputs": [
    {
     "name": "stdout",
     "output_type": "stream",
     "text": [
      "eligible\n"
     ]
    },
    {
     "data": {
      "text/plain": [
       "'eligible'"
      ]
     },
     "execution_count": 12,
     "metadata": {},
     "output_type": "execute_result"
    }
   ],
   "source": [
    "eligibilityofmarrige()"
   ]
  },
  {
   "cell_type": "code",
   "execution_count": 13,
   "id": "ab29222d",
   "metadata": {},
   "outputs": [
    {
     "name": "stdout",
     "output_type": "stream",
     "text": [
      "enter=98\n"
     ]
    }
   ],
   "source": [
    "subject1=int(input(\"enter=\"))"
   ]
  },
  {
   "cell_type": "code",
   "execution_count": 14,
   "id": "574ddea3",
   "metadata": {},
   "outputs": [
    {
     "name": "stdout",
     "output_type": "stream",
     "text": [
      "enter=99\n"
     ]
    }
   ],
   "source": [
    "subject2=int(input(\"enter=\"))"
   ]
  },
  {
   "cell_type": "code",
   "execution_count": 15,
   "id": "b24ef2b7",
   "metadata": {},
   "outputs": [
    {
     "name": "stdout",
     "output_type": "stream",
     "text": [
      "enter=96\n"
     ]
    }
   ],
   "source": [
    "subject3=int(input(\"enter=\"))"
   ]
  },
  {
   "cell_type": "code",
   "execution_count": 16,
   "id": "b0c5eae2",
   "metadata": {},
   "outputs": [
    {
     "name": "stdout",
     "output_type": "stream",
     "text": [
      "enter=99\n"
     ]
    }
   ],
   "source": [
    "subject4=int(input(\"enter=\"))"
   ]
  },
  {
   "cell_type": "code",
   "execution_count": 17,
   "id": "aba3f50e",
   "metadata": {},
   "outputs": [
    {
     "name": "stdout",
     "output_type": "stream",
     "text": [
      "enter=95\n"
     ]
    }
   ],
   "source": [
    "subject5=int(input(\"enter=\"))\n"
   ]
  },
  {
   "cell_type": "code",
   "execution_count": 18,
   "id": "463e3191",
   "metadata": {},
   "outputs": [],
   "source": [
    "def subjects():\n",
    "    total=subject1+subject2+subject3+subject4+subject5\n",
    "    print(\"total=\",total)\n",
    "    percentage=(total/5)\n",
    "    print(\"percentage is=\",percentage)"
   ]
  },
  {
   "cell_type": "code",
   "execution_count": 19,
   "id": "690cf580",
   "metadata": {},
   "outputs": [
    {
     "name": "stdout",
     "output_type": "stream",
     "text": [
      "total= 487\n",
      "percentage is= 97.4\n"
     ]
    }
   ],
   "source": [
    "subjects()"
   ]
  },
  {
   "cell_type": "code",
   "execution_count": null,
   "id": "b495a7c3",
   "metadata": {},
   "outputs": [],
   "source": [
    "#question n.o 5"
   ]
  },
  {
   "cell_type": "code",
   "execution_count": 16,
   "id": "9c1212a0",
   "metadata": {},
   "outputs": [],
   "source": [
    "def triangle():\n",
    "    height=34\n",
    "    breadth=32\n",
    "    print(\"height=\",height)\n",
    "    print(\"breadth=\",breadth)\n",
    "    print(\"area formula=(height*breadth)/2\")\n",
    "    areaoftriangle=(height*breadth)/2\n",
    "    print(\"areaoftriangle=\",areaoftriangle)\n",
    "    height1=2\n",
    "    height2=4\n",
    "    breadth2=4\n",
    "    print(\"height1=\",height1)\n",
    "    print(\"height2=\",height2)\n",
    "    print(\"breadth2=\",breadth2)\n",
    "    print(\"perimeter formula=height1+height2+breadth2\")\n",
    "    perimeteroftriangle=height1+height2+breadth2\n",
    "    print(\"perimeteroftriangle=\",perimeteroftriangle)\n",
    "    \n"
   ]
  },
  {
   "cell_type": "code",
   "execution_count": 17,
   "id": "5d8c7eb0",
   "metadata": {},
   "outputs": [
    {
     "name": "stdout",
     "output_type": "stream",
     "text": [
      "height= 34\n",
      "breadth= 32\n",
      "area formula=(height*breadth)/2\n",
      "areaoftriangle= 544.0\n",
      "height1= 2\n",
      "height2= 4\n",
      "breadth2= 4\n",
      "perimeter formula=height1+height2+breadth2\n",
      "perimeteroftriangle= 10\n"
     ]
    }
   ],
   "source": [
    "triangle()"
   ]
  },
  {
   "cell_type": "code",
   "execution_count": null,
   "id": "bcb572bc",
   "metadata": {},
   "outputs": [],
   "source": []
  }
 ],
 "metadata": {
  "kernelspec": {
   "display_name": "Python 3 (ipykernel)",
   "language": "python",
   "name": "python3"
  },
  "language_info": {
   "codemirror_mode": {
    "name": "ipython",
    "version": 3
   },
   "file_extension": ".py",
   "mimetype": "text/x-python",
   "name": "python",
   "nbconvert_exporter": "python",
   "pygments_lexer": "ipython3",
   "version": "3.11.5"
  }
 },
 "nbformat": 4,
 "nbformat_minor": 5
}
