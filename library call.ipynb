{
 "cells": [
  {
   "cell_type": "code",
   "execution_count": 1,
   "id": "f66e9d46",
   "metadata": {},
   "outputs": [],
   "source": [
    "from functionslibrary import allworkoutfunctions"
   ]
  },
  {
   "cell_type": "code",
   "execution_count": 2,
   "id": "b62864e0",
   "metadata": {},
   "outputs": [
    {
     "name": "stdout",
     "output_type": "stream",
     "text": [
      "sub fields in AI are=\n",
      "machine learning\n",
      "neural networks\n",
      "vision\n",
      "robotics\n",
      "speech processing\n",
      "natural language processing\n"
     ]
    }
   ],
   "source": [
    "allworkoutfunctions.subfieldsiai()"
   ]
  },
  {
   "cell_type": "code",
   "execution_count": 3,
   "id": "488734b7",
   "metadata": {},
   "outputs": [
    {
     "name": "stdout",
     "output_type": "stream",
     "text": [
      "enter a number:786\n",
      "786 is even number\n"
     ]
    }
   ],
   "source": [
    "allworkoutfunctions.oddeven()"
   ]
  },
  {
   "cell_type": "code",
   "execution_count": 4,
   "id": "7c01d23b",
   "metadata": {},
   "outputs": [
    {
     "name": "stdout",
     "output_type": "stream",
     "text": [
      "your gender=female\n",
      "your age=21\n",
      "eligible\n"
     ]
    },
    {
     "data": {
      "text/plain": [
       "'eligible'"
      ]
     },
     "execution_count": 4,
     "metadata": {},
     "output_type": "execute_result"
    }
   ],
   "source": [
    "allworkoutfunctions.eligibilityofmarrige()"
   ]
  },
  {
   "cell_type": "code",
   "execution_count": 5,
   "id": "e61e12b1",
   "metadata": {},
   "outputs": [
    {
     "name": "stdout",
     "output_type": "stream",
     "text": [
      "subject1=67\n",
      "subject2=87\n",
      "subject3=56\n",
      "subject4=76\n",
      "subject5=87\n",
      "total= 373\n",
      "percentage is= 74.6\n"
     ]
    }
   ],
   "source": [
    "allworkoutfunctions.subjects()"
   ]
  },
  {
   "cell_type": "code",
   "execution_count": 6,
   "id": "5757fa08",
   "metadata": {},
   "outputs": [
    {
     "name": "stdout",
     "output_type": "stream",
     "text": [
      "height= 34\n",
      "breadth= 32\n",
      "area formula=(height*breadth)/2\n",
      "areaoftriangle= 544.0\n",
      "height1= 2\n",
      "height2= 4\n",
      "breadth2= 4\n",
      "perimeter formula=height1+height2+breadth2\n",
      "perimeteroftriangle= 10\n"
     ]
    }
   ],
   "source": [
    "allworkoutfunctions.triangle()"
   ]
  },
  {
   "cell_type": "code",
   "execution_count": null,
   "id": "ad880a29",
   "metadata": {},
   "outputs": [],
   "source": []
  }
 ],
 "metadata": {
  "kernelspec": {
   "display_name": "Python 3 (ipykernel)",
   "language": "python",
   "name": "python3"
  },
  "language_info": {
   "codemirror_mode": {
    "name": "ipython",
    "version": 3
   },
   "file_extension": ".py",
   "mimetype": "text/x-python",
   "name": "python",
   "nbconvert_exporter": "python",
   "pygments_lexer": "ipython3",
   "version": "3.11.5"
  }
 },
 "nbformat": 4,
 "nbformat_minor": 5
}
