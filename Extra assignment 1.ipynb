{
 "cells": [
  {
   "cell_type": "code",
   "execution_count": null,
   "id": "378c816a",
   "metadata": {},
   "outputs": [],
   "source": [
    "#PRINT HOPE AI"
   ]
  },
  {
   "cell_type": "code",
   "execution_count": 2,
   "id": "3adbbbf5",
   "metadata": {},
   "outputs": [
    {
     "name": "stdout",
     "output_type": "stream",
     "text": [
      "HOPE AI\n"
     ]
    }
   ],
   "source": [
    "print(\"HOPE AI\")"
   ]
  },
  {
   "cell_type": "code",
   "execution_count": 3,
   "id": "4213a1be",
   "metadata": {},
   "outputs": [
    {
     "name": "stdout",
     "output_type": "stream",
     "text": [
      "enter your institute name=HOPE AI\n"
     ]
    }
   ],
   "source": [
    "institutioname=input(\"enter your institute name=\")"
   ]
  },
  {
   "cell_type": "code",
   "execution_count": 4,
   "id": "f088c555",
   "metadata": {},
   "outputs": [
    {
     "name": "stdout",
     "output_type": "stream",
     "text": [
      "Enter Your Name=Abishek\n",
      "Enter Your Age=26\n",
      "Enter Your School=SRI RAGAVENDRA POLYTECHNIC COLLEGE\n",
      "Enter Your Degree=DIPLOMA IN CIVIL ENGINEERING\n"
     ]
    }
   ],
   "source": [
    "Name=input(\"Enter Your Name=\")\n",
    "Age=input(\"Enter Your Age=\")\n",
    "School=input(\"Enter Your School=\")\n",
    "Degree=input(\"Enter Your Degree=\")\n"
   ]
  },
  {
   "cell_type": "code",
   "execution_count": 5,
   "id": "f3b3149a",
   "metadata": {},
   "outputs": [
    {
     "name": "stdout",
     "output_type": "stream",
     "text": [
      "a= 43\n",
      "b= 34\n",
      "add= 77\n"
     ]
    }
   ],
   "source": [
    "a=43\n",
    "b=34\n",
    "add=a+b\n",
    "print(\"a=\",a)\n",
    "print(\"b=\",b)\n",
    "print(\"add=\",add)\n"
   ]
  },
  {
   "cell_type": "code",
   "execution_count": 6,
   "id": "e3b7b328",
   "metadata": {},
   "outputs": [
    {
     "name": "stdout",
     "output_type": "stream",
     "text": [
      "a= 43\n",
      "b= 34\n",
      "sub= 9\n"
     ]
    }
   ],
   "source": [
    "print(\"a=\",a)\n",
    "print(\"b=\",b)\n",
    "print(\"add=\",add)\n"
   ]
  },
  {
   "cell_type": "code",
   "execution_count": 7,
   "id": "ef3527d7",
   "metadata": {},
   "outputs": [
    {
     "name": "stdout",
     "output_type": "stream",
     "text": [
      "a= 63\n",
      "b= 97\n",
      "mul= 6111\n"
     ]
    }
   ],
   "source": [
    "a=63\n",
    "b=97\n",
    "mul=a*b\n",
    "print(\"a=\",a)\n",
    "print(\"b=\",b)\n",
    "print(\"mul=\",mul)\n"
   ]
  },
  {
   "cell_type": "code",
   "execution_count": 13,
   "id": "7ec3d0fb",
   "metadata": {},
   "outputs": [
    {
     "name": "stdout",
     "output_type": "stream",
     "text": [
      "a= 76\n",
      "b= 31\n",
      "float div= 2.4516129032258065\n"
     ]
    }
   ],
   "source": [
    "a=76\n",
    "b=31\n",
    "div=float(a/b)\n",
    "print(\"a=\",a)\n",
    "print(\"b=\",b)\n",
    "print(\"float div=\",div)\n"
   ]
  },
  {
   "cell_type": "code",
   "execution_count": null,
   "id": "bd3ea923",
   "metadata": {},
   "outputs": [],
   "source": [
    "#floor division"
   ]
  },
  {
   "cell_type": "code",
   "execution_count": 10,
   "id": "5e519753",
   "metadata": {},
   "outputs": [
    {
     "name": "stdout",
     "output_type": "stream",
     "text": [
      "a= 76\n",
      "b= 31\n",
      "floor div= 2\n"
     ]
    }
   ],
   "source": [
    "a=76\n",
    "b=31\n",
    "div=a//b\n",
    "print(\"a=\",a)\n",
    "print(\"b=\",b)\n",
    "print(\"floor div=\",div)"
   ]
  },
  {
   "cell_type": "code",
   "execution_count": null,
   "id": "c1a417c6",
   "metadata": {},
   "outputs": [],
   "source": [
    "#modulo"
   ]
  },
  {
   "cell_type": "code",
   "execution_count": 15,
   "id": "f883e393",
   "metadata": {},
   "outputs": [
    {
     "name": "stdout",
     "output_type": "stream",
     "text": [
      "a= 76\n",
      "b= 31\n",
      "modulo= 14\n"
     ]
    }
   ],
   "source": [
    "a=76\n",
    "b=31\n",
    "modulo=a%b\n",
    "print(\"a=\",a)\n",
    "print(\"b=\",b)\n",
    "print(\"modulo=\",modulo)"
   ]
  },
  {
   "cell_type": "code",
   "execution_count": null,
   "id": "4afaf7ff",
   "metadata": {},
   "outputs": [],
   "source": [
    "#power"
   ]
  },
  {
   "cell_type": "code",
   "execution_count": 22,
   "id": "27a9aed8",
   "metadata": {},
   "outputs": [
    {
     "name": "stdout",
     "output_type": "stream",
     "text": [
      "power 256\n"
     ]
    }
   ],
   "source": [
    "a=4\n",
    "b=4\n",
    "c=pow(a,b)\n",
    "print(\"power=\",c)"
   ]
  },
  {
   "cell_type": "code",
   "execution_count": null,
   "id": "c9c5935a",
   "metadata": {},
   "outputs": [],
   "source": []
  },
  {
   "cell_type": "code",
   "execution_count": null,
   "id": "793b90ca",
   "metadata": {},
   "outputs": [],
   "source": []
  }
 ],
 "metadata": {
  "kernelspec": {
   "display_name": "Python 3 (ipykernel)",
   "language": "python",
   "name": "python3"
  },
  "language_info": {
   "codemirror_mode": {
    "name": "ipython",
    "version": 3
   },
   "file_extension": ".py",
   "mimetype": "text/x-python",
   "name": "python",
   "nbconvert_exporter": "python",
   "pygments_lexer": "ipython3",
   "version": "3.11.5"
  }
 },
 "nbformat": 4,
 "nbformat_minor": 5
}
