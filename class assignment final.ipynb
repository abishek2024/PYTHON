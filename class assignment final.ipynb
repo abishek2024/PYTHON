{
 "cells": [
  {
   "cell_type": "code",
   "execution_count": 6,
   "id": "fb602631",
   "metadata": {},
   "outputs": [],
   "source": [
    "class allworkoutfunctions():\n",
    "    def subfieldsiai():\n",
    "        subfields=[\"sub fields in AI are=\",\"machine learning\",\"neural networks\",\"vision\",\"robotics\",\"speech processing\",\"natural language processing\"]\n",
    "        for y in subfields:\n",
    "            print(y)\n",
    "    def oddeven():\n",
    "        num=int(input(\"enter a number:\"))\n",
    "        \n",
    "        if((num%2)==0):\n",
    "            print(num,\"is even number\")\n",
    "            message=\"even number\"\n",
    "        else:\n",
    "            print(num,\"is odd number\")\n",
    "            message=\"odd number\"\n",
    "    def eligibilityofmarrige():\n",
    "        gender=input(\"your gender=\")\n",
    "        age=int(input(\"your age=\"))\n",
    "        if(gender==\"male\"):\n",
    "            if(age>=21):\n",
    "                print(\"eligible\")\n",
    "                message=\"eligible\"\n",
    "            else:\n",
    "                print(\"not eligible\")\n",
    "                message=\"not eligible\"\n",
    "        elif(gender==\"female\"):\n",
    "            if(age>=18):\n",
    "                print(\"eligible\")\n",
    "                message=\"eligible\"\n",
    "            else:\n",
    "                print(\"not eligible\")\n",
    "                message=\" not eligible\"\n",
    "        return message  \n",
    "    def subjects():\n",
    "        subject1=int(input(\"subject1=\"))\n",
    "        subject2=int(input(\"subject2=\"))\n",
    "        subject3=int(input(\"subject3=\"))\n",
    "        subject4=int(input(\"subject4=\"))\n",
    "        subject5=int(input(\"subject5=\"))\n",
    "        total=subject1+subject2+subject3+subject4+subject5\n",
    "        print(\"total=\",total)\n",
    "        percentage=(total/5)\n",
    "        print(\"percentage is=\",percentage)\n",
    "    def triangle():\n",
    "        height=34\n",
    "        breadth=32\n",
    "        print(\"height=\",height)\n",
    "        print(\"breadth=\",breadth)\n",
    "        print(\"area formula=(height*breadth)/2\")\n",
    "        areaoftriangle=(height*breadth)/2\n",
    "        print(\"areaoftriangle=\",areaoftriangle)\n",
    "        height1=2\n",
    "        height2=4\n",
    "        breadth2=4\n",
    "        print(\"height1=\",height1)\n",
    "        print(\"height2=\",height2)\n",
    "        print(\"breadth2=\",breadth2)\n",
    "        print(\"perimeter formula=height1+height2+breadth2\")\n",
    "        perimeteroftriangle=height1+height2+breadth2\n",
    "        print(\"perimeteroftriangle=\",perimeteroftriangle)\n"
   ]
  },
  {
   "cell_type": "code",
   "execution_count": 7,
   "id": "93c9f3cc",
   "metadata": {},
   "outputs": [
    {
     "name": "stdout",
     "output_type": "stream",
     "text": [
      "enter a number:55\n",
      "55 is odd number\n"
     ]
    }
   ],
   "source": [
    "allworkoutfunctions.oddeven()"
   ]
  },
  {
   "cell_type": "code",
   "execution_count": 8,
   "id": "7762a58d",
   "metadata": {},
   "outputs": [
    {
     "name": "stdout",
     "output_type": "stream",
     "text": [
      "height= 34\n",
      "breadth= 32\n",
      "area formula=(height*breadth)/2\n",
      "areaoftriangle= 544.0\n",
      "height1= 2\n",
      "height2= 4\n",
      "breadth2= 4\n",
      "perimeter formula=height1+height2+breadth2\n",
      "perimeteroftriangle= 10\n"
     ]
    }
   ],
   "source": [
    "allworkoutfunctions.triangle()"
   ]
  },
  {
   "cell_type": "code",
   "execution_count": 9,
   "id": "3c7b36d0",
   "metadata": {},
   "outputs": [
    {
     "name": "stdout",
     "output_type": "stream",
     "text": [
      "enter=67\n",
      "enter=89\n",
      "enter=56\n",
      "enter=76\n",
      "enter=76\n",
      "total= 364\n",
      "percentage is= 72.8\n"
     ]
    }
   ],
   "source": [
    "allworkoutfunctions.subjects()"
   ]
  },
  {
   "cell_type": "code",
   "execution_count": 10,
   "id": "6c12e6d7",
   "metadata": {},
   "outputs": [
    {
     "name": "stdout",
     "output_type": "stream",
     "text": [
      "your gender=female\n",
      "your age=23\n",
      "eligible\n"
     ]
    },
    {
     "data": {
      "text/plain": [
       "'eligible'"
      ]
     },
     "execution_count": 10,
     "metadata": {},
     "output_type": "execute_result"
    }
   ],
   "source": [
    "allworkoutfunctions.eligibilityofmarrige()"
   ]
  },
  {
   "cell_type": "code",
   "execution_count": 11,
   "id": "719e2311",
   "metadata": {},
   "outputs": [
    {
     "name": "stdout",
     "output_type": "stream",
     "text": [
      "sub fields in AI are=\n",
      "machine learning\n",
      "neural networks\n",
      "vision\n",
      "robotics\n",
      "speech processing\n",
      "natural language processing\n"
     ]
    }
   ],
   "source": [
    "allworkoutfunctions.subfieldsiai()"
   ]
  },
  {
   "cell_type": "code",
   "execution_count": null,
   "id": "fc0355a9",
   "metadata": {},
   "outputs": [],
   "source": []
  }
 ],
 "metadata": {
  "kernelspec": {
   "display_name": "Python 3 (ipykernel)",
   "language": "python",
   "name": "python3"
  },
  "language_info": {
   "codemirror_mode": {
    "name": "ipython",
    "version": 3
   },
   "file_extension": ".py",
   "mimetype": "text/x-python",
   "name": "python",
   "nbconvert_exporter": "python",
   "pygments_lexer": "ipython3",
   "version": "3.11.5"
  }
 },
 "nbformat": 4,
 "nbformat_minor": 5
}
