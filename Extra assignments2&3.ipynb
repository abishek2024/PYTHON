{
 "cells": [
  {
   "cell_type": "code",
   "execution_count": 2,
   "id": "e0c0e1a1",
   "metadata": {},
   "outputs": [
    {
     "name": "stdout",
     "output_type": "stream",
     "text": [
      "0\n",
      "1\n",
      "2\n",
      "3\n",
      "4\n",
      "5\n",
      "6\n",
      "7\n",
      "8\n",
      "9\n",
      "10\n",
      "11\n",
      "12\n",
      "13\n",
      "14\n",
      "15\n",
      "16\n",
      "17\n",
      "18\n",
      "19\n"
     ]
    }
   ],
   "source": [
    "for num in range(0,20):\n",
    "    print(num)"
   ]
  },
  {
   "cell_type": "code",
   "execution_count": 3,
   "id": "b6624926",
   "metadata": {},
   "outputs": [
    {
     "name": "stdout",
     "output_type": "stream",
     "text": [
      "10\n",
      "11\n",
      "12\n",
      "13\n",
      "14\n",
      "15\n",
      "16\n",
      "17\n",
      "18\n",
      "19\n"
     ]
    }
   ],
   "source": [
    "for num1 in range(10,20):\n",
    "    print(num1)\n"
   ]
  },
  {
   "cell_type": "code",
   "execution_count": 5,
   "id": "501955b4",
   "metadata": {},
   "outputs": [
    {
     "name": "stdout",
     "output_type": "stream",
     "text": [
      "lenth of the list1= 8\n"
     ]
    }
   ],
   "source": [
    "list1=[10,23,14,15,15,45,87,23]\n",
    "print(\"lenth of the list1=\",len(list1))"
   ]
  },
  {
   "cell_type": "code",
   "execution_count": null,
   "id": "a55fb07e",
   "metadata": {},
   "outputs": [],
   "source": [
    "#EXTRA ASSIGNMENTS 3"
   ]
  },
  {
   "cell_type": "code",
   "execution_count": 6,
   "id": "6d5d16f2",
   "metadata": {},
   "outputs": [
    {
     "name": "stdout",
     "output_type": "stream",
     "text": [
      "enter the valur=10\n"
     ]
    }
   ],
   "source": [
    "value=int(input(\"enter the value=\"))"
   ]
  },
  {
   "cell_type": "code",
   "execution_count": 8,
   "id": "2ce7e7da",
   "metadata": {},
   "outputs": [
    {
     "name": "stdout",
     "output_type": "stream",
     "text": [
      "value= 10\n",
      "correct\n"
     ]
    }
   ],
   "source": [
    "print(\"value=\",value)\n",
    "if(value==10):\n",
    "    print(\"correct\")\n",
    "else:\n",
    "    print(\"wrong\")"
   ]
  },
  {
   "cell_type": "code",
   "execution_count": null,
   "id": "436d2828",
   "metadata": {},
   "outputs": [],
   "source": [
    "#password is correct or not"
   ]
  },
  {
   "cell_type": "code",
   "execution_count": 14,
   "id": "4d618a54",
   "metadata": {},
   "outputs": [
    {
     "name": "stdout",
     "output_type": "stream",
     "text": [
      "enter the password=HOPE@123\n"
     ]
    }
   ],
   "source": [
    "password=input(\"enter the password=\")"
   ]
  },
  {
   "cell_type": "code",
   "execution_count": 19,
   "id": "88bd8394",
   "metadata": {},
   "outputs": [
    {
     "name": "stdout",
     "output_type": "stream",
     "text": [
      "password\n",
      "your password is correct\n"
     ]
    }
   ],
   "source": [
    "print(\"password\")\n",
    "if(password==\"HOPE@123\"):\n",
    "    print(\"your password is correct\")\n",
    "else:\n",
    "    print(\"your password is wrong\")"
   ]
  },
  {
   "cell_type": "code",
   "execution_count": 20,
   "id": "16dbc5cb",
   "metadata": {},
   "outputs": [
    {
     "name": "stdout",
     "output_type": "stream",
     "text": [
      "child\n",
      "child\n",
      "teen\n",
      "adult\n",
      "adult\n",
      "adult\n",
      "citizen\n",
      "citizen\n",
      "senior citizen\n"
     ]
    }
   ],
   "source": [
    "LIST=[5,10,15,20,25,40,50,60,70]\n",
    "for age in LIST:\n",
    "    if(age<=10):\n",
    "        print(\"child\")\n",
    "    elif(age<=18):\n",
    "        print(\"teen\")\n",
    "    elif(age<=40):\n",
    "        print(\"adult\")\n",
    "    elif(age<=60):\n",
    "        print(\"citizen\")\n",
    "    else:    \n",
    "        print(\"senior citizen\")"
   ]
  },
  {
   "cell_type": "code",
   "execution_count": 21,
   "id": "9492d2ea",
   "metadata": {},
   "outputs": [
    {
     "name": "stdout",
     "output_type": "stream",
     "text": [
      "enter the number-1\n"
     ]
    }
   ],
   "source": [
    "number=int(input(\"enter the number\"))"
   ]
  },
  {
   "cell_type": "code",
   "execution_count": 22,
   "id": "abf374ae",
   "metadata": {},
   "outputs": [
    {
     "name": "stdout",
     "output_type": "stream",
     "text": [
      "the number is negatgive\n"
     ]
    }
   ],
   "source": [
    "if(number<0):\n",
    "    print(\"the number is negatgive\")\n",
    "else:\n",
    "    print(\"the number is positive\")"
   ]
  },
  {
   "cell_type": "code",
   "execution_count": 25,
   "id": "6702cb64",
   "metadata": {},
   "outputs": [
    {
     "name": "stdout",
     "output_type": "stream",
     "text": [
      "enter the value=5567\n"
     ]
    }
   ],
   "source": [
    "num1=int(input(\"enter the value=\"))"
   ]
  },
  {
   "cell_type": "code",
   "execution_count": 27,
   "id": "09006061",
   "metadata": {},
   "outputs": [
    {
     "name": "stdout",
     "output_type": "stream",
     "text": [
      "value= 5567\n",
      "the value is not divisible by 5\n"
     ]
    }
   ],
   "source": [
    "print(\"value=\",num1)\n",
    "if((num1%5)==0):\n",
    "    print(\"the value is divisible by 5\")\n",
    "else:    \n",
    "     print(\"the value is not divisible by 5\")"
   ]
  },
  {
   "cell_type": "code",
   "execution_count": null,
   "id": "1d4cf7fc",
   "metadata": {},
   "outputs": [],
   "source": []
  }
 ],
 "metadata": {
  "kernelspec": {
   "display_name": "Python 3 (ipykernel)",
   "language": "python",
   "name": "python3"
  },
  "language_info": {
   "codemirror_mode": {
    "name": "ipython",
    "version": 3
   },
   "file_extension": ".py",
   "mimetype": "text/x-python",
   "name": "python",
   "nbconvert_exporter": "python",
   "pygments_lexer": "ipython3",
   "version": "3.11.5"
  }
 },
 "nbformat": 4,
 "nbformat_minor": 5
}
