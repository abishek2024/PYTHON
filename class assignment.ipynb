{
 "cells": [
  {
   "cell_type": "code",
   "execution_count": 1,
   "id": "ede06d18",
   "metadata": {},
   "outputs": [],
   "source": [
    "class allworkoutfunctions():\n",
    "    def subfieldsiai():\n",
    "        subfields=[\"sub fields in AI are=\",\"machine learning\",\"neural networks\",\"vision\",\"robotics\",\"speech processing\",\"natural language processing\"]\n",
    "        for y in subfields:\n",
    "            print(y)\n",
    "    def oddeven():\n",
    "        num=int(input(\"enter a number:\"))\n",
    "        \n",
    "        if((num%2)==0):\n",
    "            print(num,\"is even number\")\n",
    "            message=\"even number\"\n",
    "        else:\n",
    "            print(num,\"is odd number\")\n",
    "            message=\"odd number\"\n",
    "    def eligibilityofmarrige():\n",
    "        gender=input(\"your gender=\")\n",
    "        age=int(input(\"your age=\"))\n",
    "        if(gender==\"male\"):\n",
    "            if(age>=21):\n",
    "                print(\"eligible\")\n",
    "                message=\"eligible\"\n",
    "            else:\n",
    "                print(\"not eligible\")\n",
    "                message=\"not eligible\"\n",
    "        elif(gender==\"female\"):\n",
    "            if(age>=18):\n",
    "                print(\"eligible\")\n",
    "                message=\"eligible\"\n",
    "            else:\n",
    "                print(\"not eligible\")\n",
    "                message=\" not eligible\"\n",
    "        return message  \n",
    "    def subjects():\n",
    "        subject1=int(input(\"subject1=\"))\n",
    "        subject2=int(input(\"subject2=\"))\n",
    "        subject3=int(input(\"subject3=\"))\n",
    "        subject4=int(input(\"subject4=\"))\n",
    "        subject5=int(input(\"subject5=\"))\n",
    "        total=subject1+subject2+subject3+subject4+subject5\n",
    "        print(\"total=\",total)\n",
    "        percentage=(total/5)\n",
    "        print(\"percentage is=\",percentage)\n",
    "    def triangle():\n",
    "        height=34\n",
    "        breadth=32\n",
    "        print(\"height=\",height)\n",
    "        print(\"breadth=\",breadth)\n",
    "        print(\"area formula=(height*breadth)/2\")\n",
    "        areaoftriangle=(height*breadth)/2\n",
    "        print(\"areaoftriangle=\",areaoftriangle)\n",
    "        height1=2\n",
    "        height2=4\n",
    "        breadth2=4\n",
    "        print(\"height1=\",height1)\n",
    "        print(\"height2=\",height2)\n",
    "        print(\"breadth2=\",breadth2)\n",
    "        print(\"perimeter formula=height1+height2+breadth2\")\n",
    "        perimeteroftriangle=height1+height2+breadth2\n",
    "        print(\"perimeteroftriangle=\",perimeteroftriangle)\n"
   ]
  },
  {
   "cell_type": "code",
   "execution_count": 2,
   "id": "aa7e026c",
   "metadata": {},
   "outputs": [
    {
     "name": "stdout",
     "output_type": "stream",
     "text": [
      "sub fields in AI are=\n",
      "machine learning\n",
      "neural networks\n",
      "vision\n",
      "robotics\n",
      "speech processing\n",
      "natural language processing\n"
     ]
    }
   ],
   "source": [
    "allworkoutfunctions.subfieldsiai()"
   ]
  },
  {
   "cell_type": "code",
   "execution_count": 3,
   "id": "e76d8113",
   "metadata": {},
   "outputs": [
    {
     "name": "stdout",
     "output_type": "stream",
     "text": [
      "enter a number:45\n",
      "45 is odd number\n"
     ]
    }
   ],
   "source": [
    "allworkoutfunctions.oddeven()"
   ]
  },
  {
   "cell_type": "code",
   "execution_count": 4,
   "id": "40c69bd6",
   "metadata": {},
   "outputs": [
    {
     "name": "stdout",
     "output_type": "stream",
     "text": [
      "your gender=male\n",
      "your age=26\n",
      "eligible\n"
     ]
    },
    {
     "data": {
      "text/plain": [
       "'eligible'"
      ]
     },
     "execution_count": 4,
     "metadata": {},
     "output_type": "execute_result"
    }
   ],
   "source": [
    "allworkoutfunctions.eligibilityofmarrige()"
   ]
  },
  {
   "cell_type": "code",
   "execution_count": 5,
   "id": "b6af181b",
   "metadata": {},
   "outputs": [
    {
     "name": "stdout",
     "output_type": "stream",
     "text": [
      "subject1=65\n",
      "subject2=67\n",
      "subject3=87\n",
      "subject4=86\n",
      "subject5=98\n",
      "total= 403\n",
      "percentage is= 80.6\n"
     ]
    }
   ],
   "source": [
    "allworkoutfunctions.subjects()"
   ]
  },
  {
   "cell_type": "code",
   "execution_count": null,
   "id": "4fdba544",
   "metadata": {},
   "outputs": [],
   "source": [
    "allworkoutfunctions"
   ]
  }
 ],
 "metadata": {
  "kernelspec": {
   "display_name": "Python 3 (ipykernel)",
   "language": "python",
   "name": "python3"
  },
  "language_info": {
   "codemirror_mode": {
    "name": "ipython",
    "version": 3
   },
   "file_extension": ".py",
   "mimetype": "text/x-python",
   "name": "python",
   "nbconvert_exporter": "python",
   "pygments_lexer": "ipython3",
   "version": "3.11.5"
  }
 },
 "nbformat": 4,
 "nbformat_minor": 5
}
